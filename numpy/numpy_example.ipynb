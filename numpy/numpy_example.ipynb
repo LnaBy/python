{
 "cells": [
  {
   "cell_type": "markdown",
   "metadata": {},
   "source": [
    "# 练习题"
   ]
  },
  {
   "cell_type": "code",
   "execution_count": 1,
   "metadata": {},
   "outputs": [],
   "source": [
    "import numpy as np"
   ]
  },
  {
   "cell_type": "markdown",
   "metadata": {},
   "source": [
    "1、查看numpy 版本"
   ]
  },
  {
   "cell_type": "code",
   "execution_count": 4,
   "metadata": {},
   "outputs": [
    {
     "name": "stdout",
     "output_type": "stream",
     "text": [
      "1.16.4\n"
     ]
    }
   ],
   "source": [
    "print(np.__version__)"
   ]
  },
  {
   "cell_type": "markdown",
   "metadata": {},
   "source": [
    "2、创建0到9的一维数组"
   ]
  },
  {
   "cell_type": "code",
   "execution_count": 5,
   "metadata": {},
   "outputs": [
    {
     "name": "stdout",
     "output_type": "stream",
     "text": [
      "[0 1 2 3 4 5 6 7 8 9]\n"
     ]
    }
   ],
   "source": [
    "vector = np.arange(10)\n",
    "print(vector)"
   ]
  },
  {
   "cell_type": "markdown",
   "metadata": {},
   "source": [
    "3、创建一个全为true的布尔数组"
   ]
  },
  {
   "cell_type": "code",
   "execution_count": 8,
   "metadata": {},
   "outputs": [
    {
     "name": "stdout",
     "output_type": "stream",
     "text": [
      "[[ True  True]\n",
      " [ True  True]]\n",
      "[[ True  True  True]\n",
      " [ True  True  True]]\n"
     ]
    }
   ],
   "source": [
    "vec_bool = np.full((2,2),True)\n",
    "print(vec_bool)\n",
    "\n",
    "vec_bool_1 = np.ones((2,3),dtype = bool)\n",
    "print(vec_bool_1)"
   ]
  },
  {
   "cell_type": "markdown",
   "metadata": {},
   "source": [
    "4、从arr中提取所有奇数"
   ]
  },
  {
   "cell_type": "code",
   "execution_count": 14,
   "metadata": {},
   "outputs": [
    {
     "name": "stdout",
     "output_type": "stream",
     "text": [
      "[1, 3, 5, 7, 9, 11]\n",
      "[ 1  3  5  7  9 11]\n"
     ]
    }
   ],
   "source": [
    "arr = np.arange(12)\n",
    "oddNums =[x for x in arr if x%2 != 0]\n",
    "print(oddNums)\n",
    "print(arr[arr%2==1])"
   ]
  },
  {
   "cell_type": "markdown",
   "metadata": {},
   "source": [
    "5、将arr中的所有奇数替换为1"
   ]
  },
  {
   "cell_type": "code",
   "execution_count": 15,
   "metadata": {},
   "outputs": [
    {
     "name": "stdout",
     "output_type": "stream",
     "text": [
      "[ 0 -1  2 -1  4 -1  6 -1  8 -1]\n"
     ]
    }
   ],
   "source": [
    "arr = np.arange(10)\n",
    "arr[arr % 2 ==1] = -1\n",
    "print(arr)"
   ]
  },
  {
   "cell_type": "markdown",
   "metadata": {},
   "source": [
    "6、将arr中的所有奇数替换为1，原数组不发生改变"
   ]
  },
  {
   "cell_type": "code",
   "execution_count": 18,
   "metadata": {},
   "outputs": [
    {
     "name": "stdout",
     "output_type": "stream",
     "text": [
      "[ 0 -1  2 -1  4 -1  6 -1  8 -1]\n"
     ]
    }
   ],
   "source": [
    "#np.where(condition, x, y) 满足条件(condition)，输出x，不满足输出y。\n",
    "arr = np.arange(10)\n",
    "print(np.where(arr % 2 == 0,arr,-1))"
   ]
  },
  {
   "cell_type": "markdown",
   "metadata": {},
   "source": [
    "补充 where"
   ]
  },
  {
   "cell_type": "code",
   "execution_count": 60,
   "metadata": {},
   "outputs": [
    {
     "name": "stdout",
     "output_type": "stream",
     "text": [
      "(array([1, 2, 3, 4, 5, 6, 7, 8, 9], dtype=int64),)\n",
      "(array([0, 0, 1, 1], dtype=int64), array([0, 2, 0, 1], dtype=int64))\n",
      "(array([5, 6, 7, 8, 9], dtype=int64),)\n",
      "(array([0, 1, 1], dtype=int64), array([2, 0, 1], dtype=int64))\n",
      "[ 0  1 -2  3 -4  5 -6  7 -8  9]\n",
      "[[30 70 50]\n",
      " [30 40 80]]\n"
     ]
    }
   ],
   "source": [
    "#第一种用法：只给where()函数传递一个数组作为参数，返回其中非0元素的下标。\n",
    "x = np.arange(10)\n",
    "print(np.where(x))\n",
    "y = np.array([[1,0,3],[4,5,0]])\n",
    "print(np.where(y)) #非0元素下标分别为[0,0],[0,2],[1,0],[1,1],二维的返回用一个元组表示，一维代表行下标，一维代表列下标\n",
    "\n",
    "#第二种用法：给where()函数传递一个包含True/False值的数组，返回该数组中True值的下标，结合numpy数组的关系运算，可以返回数组中符合特定条件的元素的下标。\n",
    "x = np.arange(10)\n",
    "print(np.where(x>4))\n",
    "y = np.array([[1,0,3],[4,5,0]])\n",
    "print(np.where(y>2))\n",
    "#第三种用法：给where()函数传递一个条件数组和两个值或数组，对于条件数组中等价于True的位置，从第一个值或数组中取值进行替换，否则从第二个值或数组中取值进行替换\n",
    "x = np.arange(10)\n",
    "print(np.where(x%2==1,x,-x))#奇数不变，偶数变为相反数，且返回为改变之后的值\n",
    "y = np.array([[1,0,3],[4,5,0]])\n",
    "print(np.where(y,[30,40,50],[60,70,80]))#对于每行，大于1，替换对应的[30,40,50],反之替换[60,70,80]\n"
   ]
  },
  {
   "cell_type": "markdown",
   "metadata": {},
   "source": [
    "7、将一维数组转换为2行的2维数组"
   ]
  },
  {
   "cell_type": "code",
   "execution_count": 22,
   "metadata": {},
   "outputs": [
    {
     "name": "stdout",
     "output_type": "stream",
     "text": [
      "[[ 0  1  2  3  4  5]\n",
      " [ 6  7  8  9 10 11]]\n"
     ]
    }
   ],
   "source": [
    "arr = np.arange(12)\n",
    "print(arr.reshape(2,-1))"
   ]
  },
  {
   "cell_type": "markdown",
   "metadata": {},
   "source": [
    "8、垂直堆叠数组a和数组b"
   ]
  },
  {
   "cell_type": "code",
   "execution_count": 34,
   "metadata": {},
   "outputs": [
    {
     "name": "stdout",
     "output_type": "stream",
     "text": [
      "[[0 1 2 3 4]\n",
      " [5 6 7 8 9]\n",
      " [1 1 1 1 1]\n",
      " [1 1 1 1 1]]\n",
      "[[0 1 2 3 4]\n",
      " [5 6 7 8 9]\n",
      " [1 1 1 1 1]\n",
      " [1 1 1 1 1]]\n",
      "[[0 1 2 3 4]\n",
      " [5 6 7 8 9]\n",
      " [1 1 1 1 1]\n",
      " [1 1 1 1 1]]\n"
     ]
    }
   ],
   "source": [
    "a = np.arange(10).reshape(2,-1)\n",
    "b = np.repeat(1, 10).reshape(2,-1)  #10个1\n",
    "\n",
    "#方法一\n",
    "print(np.concatenate([a,b],axis = 0))\n",
    "#方法二\n",
    "print(np.vstack([a,b]))\n",
    "#方法三\n",
    "print(np.r_[a,b])"
   ]
  },
  {
   "cell_type": "markdown",
   "metadata": {},
   "source": [
    "9、水平堆叠数组a和数组b"
   ]
  },
  {
   "cell_type": "code",
   "execution_count": 35,
   "metadata": {},
   "outputs": [
    {
     "name": "stdout",
     "output_type": "stream",
     "text": [
      "[[0 1 2 3 4 1 1 1 1 1]\n",
      " [5 6 7 8 9 1 1 1 1 1]]\n",
      "[[0 1 2 3 4 1 1 1 1 1]\n",
      " [5 6 7 8 9 1 1 1 1 1]]\n",
      "[[0 1 2 3 4 1 1 1 1 1]\n",
      " [5 6 7 8 9 1 1 1 1 1]]\n"
     ]
    }
   ],
   "source": [
    "a = np.arange(10).reshape(2,-1)\n",
    "b = np.repeat(1, 10).reshape(2,-1)  #10个1\n",
    "\n",
    "#方法一\n",
    "print(np.concatenate([a,b],axis = 1))\n",
    "#方法二\n",
    "print(np.hstack([a,b]))\n",
    "#方法三\n",
    "print(np.c_[a,b])"
   ]
  },
  {
   "cell_type": "markdown",
   "metadata": {},
   "source": [
    "10、创建以下模式而不使用硬编码。只使用numpy函数和下面的输入数组a"
   ]
  },
  {
   "cell_type": "code",
   "execution_count": 41,
   "metadata": {},
   "outputs": [
    {
     "name": "stdout",
     "output_type": "stream",
     "text": [
      "[1 1 2 2 3 3]\n",
      "[1 2 3 1 2 3 1 2 3]\n",
      "[1 1 2 2 3 3 1 2 3 1 2 3 1 2 3]\n"
     ]
    }
   ],
   "source": [
    "a = np.array([1,2,3])\n",
    "aa = np.repeat(a,2)\n",
    "bb = np.tile(a,3)\n",
    "print(aa)\n",
    "print(bb)\n",
    "#在numpy中，一个列表虽然是横着表示的，但它是列向量。\n",
    "print(np.r_[aa,bb])"
   ]
  },
  {
   "cell_type": "markdown",
   "metadata": {},
   "source": [
    "补充tile和repeat"
   ]
  },
  {
   "cell_type": "code",
   "execution_count": 45,
   "metadata": {},
   "outputs": [
    {
     "name": "stdout",
     "output_type": "stream",
     "text": [
      "[[1 2 1 2 1 2 1 2]\n",
      " [3 4 3 4 3 4 3 4]\n",
      " [1 2 1 2 1 2 1 2]\n",
      " [3 4 3 4 3 4 3 4]]\n"
     ]
    }
   ],
   "source": [
    "#tile的用法， tile() 函数，就是将原矩阵横向、纵向地复制\n",
    "mat = np.array([[1,2], [3, 4]])\n",
    "#横向和纵向，（m,n）m表示纵向，n表示横向\n",
    "print(np.tile(mat,(2,4)))"
   ]
  },
  {
   "cell_type": "code",
   "execution_count": 52,
   "metadata": {},
   "outputs": [
    {
     "name": "stdout",
     "output_type": "stream",
     "text": [
      "[1 1 2 2 3 3 4 4]\n",
      "[[1 2]\n",
      " [1 2]\n",
      " [3 4]\n",
      " [3 4]]\n",
      "[[1 1 2 2]\n",
      " [3 3 4 4]]\n",
      "[[1 1 2 2 2]\n",
      " [3 3 4 4 4]]\n",
      "[[1 2]\n",
      " [1 2]\n",
      " [3 4]\n",
      " [3 4]\n",
      " [3 4]]\n"
     ]
    }
   ],
   "source": [
    "#repeat，即每列或者每行复制的个数\n",
    "mat = np.array([[1,2], [3, 4]])\n",
    "#axis=None，时候就会flatten当前矩阵，实际上就是变成了一个向量\n",
    "print(np.repeat(mat,2,axis=None))  \n",
    "\n",
    "#axis=0,沿着y轴复制，实际上增加了行数\n",
    "print(np.repeat(mat,2,axis=0))  \n",
    "\n",
    "#axis=1,沿着x轴复制，实际上增加列数\n",
    "print(np.repeat(mat,2,axis=1))\n",
    "\n",
    "#repeats可以为一个数，也可以为一个矩阵,每个数字代表的每一列的复制个数\n",
    "print(np.repeat(mat,[2,3],axis=1))\n",
    "print(np.repeat(mat,[2,3],axis=0))"
   ]
  },
  {
   "cell_type": "markdown",
   "metadata": {},
   "source": [
    "11、获取数组a和数组b之间的公共项。"
   ]
  },
  {
   "cell_type": "code",
   "execution_count": 4,
   "metadata": {},
   "outputs": [
    {
     "name": "stdout",
     "output_type": "stream",
     "text": [
      "[2 4]\n"
     ]
    }
   ],
   "source": [
    "#求得2个数组的公共项\n",
    "com_a = np.array([1,2,3,2,3,4,3,4,5,6])\n",
    "com_b = np.array([7,2,10,2,7,4,9,4,9,8])\n",
    "print(np.intersect1d(com_a,com_b))"
   ]
  },
  {
   "cell_type": "markdown",
   "metadata": {},
   "source": [
    "12、从数组a中删除数组b中的所有项。"
   ]
  },
  {
   "cell_type": "code",
   "execution_count": 5,
   "metadata": {},
   "outputs": [
    {
     "name": "stdout",
     "output_type": "stream",
     "text": [
      "[1 3 5 6]\n"
     ]
    }
   ],
   "source": [
    "com_a = np.array([1,2,3,2,3,4,3,4,5,6])\n",
    "com_b = np.array([7,2,10,2,7,4,9,4,9,8])\n",
    "print(np.setdiff1d(com_a,com_b))"
   ]
  },
  {
   "cell_type": "markdown",
   "metadata": {},
   "source": [
    "13、获取a和b元素匹配的位置。"
   ]
  },
  {
   "cell_type": "code",
   "execution_count": 6,
   "metadata": {},
   "outputs": [
    {
     "name": "stdout",
     "output_type": "stream",
     "text": [
      "(array([1, 3, 5, 7], dtype=int64),)\n"
     ]
    }
   ],
   "source": [
    "com_a = np.array([1,2,3,2,3,4,3,4,5,6])\n",
    "com_b = np.array([7,2,10,2,7,4,9,4,9,8])\n",
    "print(np.where(com_a == com_b))"
   ]
  },
  {
   "cell_type": "markdown",
   "metadata": {},
   "source": [
    "14、获取5到10之间的所有项目"
   ]
  },
  {
   "cell_type": "code",
   "execution_count": 12,
   "metadata": {},
   "outputs": [
    {
     "name": "stdout",
     "output_type": "stream",
     "text": [
      "[ 6  9 10]\n"
     ]
    }
   ],
   "source": [
    "#得到下标\n",
    "a = np.array([2, 6, 1, 9, 10, 3, 27])\n",
    "print(a[np.where((a>=5) & (a <=10))])"
   ]
  },
  {
   "cell_type": "markdown",
   "metadata": {},
   "source": [
    "15、函数向量化，即转换适用于两个标量的函数maxx，以处理两个数组"
   ]
  },
  {
   "cell_type": "code",
   "execution_count": 14,
   "metadata": {},
   "outputs": [
    {
     "name": "stdout",
     "output_type": "stream",
     "text": [
      "[ 7.  2. 10.  2.  7.  4.  9.  4.  9.  8.]\n"
     ]
    }
   ],
   "source": [
    "#使用vectorize使得向量标量，以此处理向量中的元素\n",
    "def maxx(x,y):\n",
    "    if x>y:\n",
    "        return x\n",
    "    else:\n",
    "        return y\n",
    "pair_max = np.vectorize(maxx,otypes=[float])\n",
    "com_a = np.array([1,2,3,2,3,4,3,4,5,6])\n",
    "com_b = np.array([7,2,10,2,7,4,9,4,9,8])\n",
    "print(pair_max(com_a,com_b))"
   ]
  },
  {
   "cell_type": "markdown",
   "metadata": {},
   "source": [
    "16、交换数组中的列"
   ]
  },
  {
   "cell_type": "code",
   "execution_count": 17,
   "metadata": {},
   "outputs": [
    {
     "name": "stdout",
     "output_type": "stream",
     "text": [
      "[[0 1 2]\n",
      " [3 4 5]\n",
      " [6 7 8]]\n",
      "[[1 0 2]\n",
      " [4 3 5]\n",
      " [7 6 8]]\n"
     ]
    }
   ],
   "source": [
    "arr = np.arange(9).reshape(3,3)\n",
    "print(arr)\n",
    "print(arr[:,[1,0,2]])"
   ]
  },
  {
   "cell_type": "markdown",
   "metadata": {},
   "source": [
    "17、交换数组中的行"
   ]
  },
  {
   "cell_type": "code",
   "execution_count": 18,
   "metadata": {},
   "outputs": [
    {
     "name": "stdout",
     "output_type": "stream",
     "text": [
      "[[0 1 2]\n",
      " [3 4 5]\n",
      " [6 7 8]]\n",
      "[[3 4 5]\n",
      " [0 1 2]\n",
      " [6 7 8]]\n"
     ]
    }
   ],
   "source": [
    "arr = np.arange(9).reshape(3,3)\n",
    "print(arr)\n",
    "print(arr[[1,0,2],:])"
   ]
  },
  {
   "cell_type": "markdown",
   "metadata": {},
   "source": [
    "18、反转数组中的行"
   ]
  },
  {
   "cell_type": "code",
   "execution_count": 12,
   "metadata": {},
   "outputs": [
    {
     "name": "stdout",
     "output_type": "stream",
     "text": [
      "[[0 1 2]\n",
      " [3 4 5]\n",
      " [6 7 8]]\n",
      "[[6 7 8]\n",
      " [3 4 5]\n",
      " [0 1 2]]\n"
     ]
    }
   ],
   "source": [
    "arr = np.arange(9).reshape(3,3)\n",
    "print(arr)\n",
    "print(arr[::-1,:]) #::-1,表示从后面开始不断-1，即-1，-2，-3"
   ]
  },
  {
   "cell_type": "markdown",
   "metadata": {},
   "source": [
    "19、反转数组中的列"
   ]
  },
  {
   "cell_type": "code",
   "execution_count": 13,
   "metadata": {},
   "outputs": [
    {
     "name": "stdout",
     "output_type": "stream",
     "text": [
      "[[0 1 2]\n",
      " [3 4 5]\n",
      " [6 7 8]]\n",
      "[[2 1 0]\n",
      " [5 4 3]\n",
      " [8 7 6]]\n"
     ]
    }
   ],
   "source": [
    "arr = np.arange(9).reshape(3,3)\n",
    "print(arr)\n",
    "print(arr[:,::-1])"
   ]
  },
  {
   "cell_type": "markdown",
   "metadata": {},
   "source": [
    "20、创建一个形状为5x3的二维数组，以包含5到10之间的随机十进制数。"
   ]
  },
  {
   "cell_type": "code",
   "execution_count": 14,
   "metadata": {},
   "outputs": [
    {
     "name": "stdout",
     "output_type": "stream",
     "text": [
      "[[7.038 8.236 5.294]\n",
      " [5.687 5.02  6.318]\n",
      " [7.509 6.586 5.148]\n",
      " [6.405 9.053 5.604]\n",
      " [6.078 8.256 7.109]]\n",
      "[[9.833 5.027 6.234]\n",
      " [5.733 7.008 7.09 ]\n",
      " [9.697 5.691 5.075]\n",
      " [8.624 9.988 5.057]\n",
      " [7.953 5.148 5.173]]\n"
     ]
    }
   ],
   "source": [
    "#第一种：前面整数+0-1的小数\n",
    "rand_arr = np.random.randint(low=5, high=10, size=(5,3)) + np.random.random((5,3))\n",
    "print(rand_arr)\n",
    "#第二种\n",
    "rand_arr = np.random.uniform(5,10, size=(5,3))\n",
    "print(rand_arr)"
   ]
  },
  {
   "cell_type": "markdown",
   "metadata": {},
   "source": [
    "21、如何在numpy数组中只打印小数点后三位"
   ]
  },
  {
   "cell_type": "code",
   "execution_count": 17,
   "metadata": {},
   "outputs": [
    {
     "name": "stdout",
     "output_type": "stream",
     "text": [
      "[[0.764 0.749 0.013]\n",
      " [0.337 0.246 0.479]\n",
      " [0.333 0.547 0.79 ]\n",
      " [0.654 0.661 0.941]\n",
      " [0.846 0.095 0.203]]\n",
      "[[0.524 0.771 0.986]\n",
      " [0.015 0.579 0.021]\n",
      " [0.915 0.92  0.566]\n",
      " [0.505 0.488 0.052]\n",
      " [0.969 0.062 0.919]]\n",
      "[[0.524 0.771 0.986]\n",
      " [0.015 0.579 0.021]\n",
      " [0.915 0.92  0.566]\n",
      " [0.505 0.488 0.052]\n",
      " [0.969 0.062 0.919]]\n"
     ]
    }
   ],
   "source": [
    "#第一种\n",
    "rand_arr = np.random.random([5,3])\n",
    "print(np.around(rand_arr,decimals=3))\n",
    "\n",
    "#第二种\n",
    "rand_arr1 = np.random.random((5,3))\n",
    "print(rand_arr1)\n",
    "np.set_printoptions(precision = 3)\n",
    "print(rand_arr1)"
   ]
  },
  {
   "cell_type": "markdown",
   "metadata": {},
   "source": [
    "22、通过e式科学记数法来打印rand_arr（如1e10）"
   ]
  },
  {
   "cell_type": "code",
   "execution_count": 22,
   "metadata": {},
   "outputs": [
    {
     "name": "stdout",
     "output_type": "stream",
     "text": [
      "[[5.434e-03 2.784e-03 4.245e-03]\n",
      " [8.448e-03 4.719e-05 1.216e-03]\n",
      " [6.707e-03 8.259e-03 1.367e-03]]\n",
      "[[0.005434 0.002784 0.004245]\n",
      " [0.008448 0.000047 0.001216]\n",
      " [0.006707 0.008259 0.001367]]\n"
     ]
    }
   ],
   "source": [
    "#False使用科学计数法\n",
    "np.set_printoptions(suppress = False)\n",
    "np.random.seed(100)\n",
    "rand_arr = np.random.random([3,3])/100\n",
    "print(rand_arr)\n",
    "\n",
    "#使用小数\n",
    "np.set_printoptions(suppress=True, precision=6)\n",
    "print(rand_arr)"
   ]
  },
  {
   "cell_type": "markdown",
   "metadata": {},
   "source": [
    "23、如何限制numpy数组输出中打印的项目数？"
   ]
  },
  {
   "cell_type": "code",
   "execution_count": 43,
   "metadata": {},
   "outputs": [
    {
     "name": "stdout",
     "output_type": "stream",
     "text": [
      "[ 0  1  2 ... 12 13 14]\n"
     ]
    }
   ],
   "source": [
    "#超过阈值就缩写\n",
    "np.set_printoptions(threshold=8)\n",
    "b = np.arange(15)\n",
    "print(b)"
   ]
  },
  {
   "cell_type": "markdown",
   "metadata": {},
   "source": [
    "24、如何打印完整的numpy数组而不截断"
   ]
  },
  {
   "cell_type": "code",
   "execution_count": 45,
   "metadata": {},
   "outputs": [
    {
     "name": "stdout",
     "output_type": "stream",
     "text": [
      "[ 0  1  2  3  4  5  6  7  8  9 10 11 12 13 14]\n"
     ]
    }
   ],
   "source": [
    "b = np.arange(15)\n",
    "#设置为很大的数字\n",
    "np.set_printoptions(threshold=10000)\n",
    "print(b)"
   ]
  },
  {
   "cell_type": "markdown",
   "metadata": {},
   "source": [
    "25、导入鸢尾属植物数据集，保持文本不变。"
   ]
  },
  {
   "cell_type": "code",
   "execution_count": 51,
   "metadata": {},
   "outputs": [
    {
     "name": "stdout",
     "output_type": "stream",
     "text": [
      "[[b'5.1' b'3.5' b'1.4' b'0.2' b'Iris-setosa']\n",
      " [b'4.9' b'3.0' b'1.4' b'0.2' b'Iris-setosa']\n",
      " [b'4.7' b'3.2' b'1.3' b'0.2' b'Iris-setosa']]\n"
     ]
    }
   ],
   "source": [
    "url = 'https://archive.ics.uci.edu/ml/machine-learning-databases/iris/iris.data'\n",
    "#使用genfromtxt原格式读取数据\n",
    "iris = np.genfromtxt(url, delimiter=',', dtype='object')\n",
    "names = ('sepallength', 'sepalwidth', 'petallength', 'petalwidth', 'species')\n",
    "print(iris[:3])"
   ]
  },
  {
   "cell_type": "markdown",
   "metadata": {},
   "source": [
    "26、从前面问题中导入的一维鸢尾属植物数据集中提取文本列的物种。"
   ]
  },
  {
   "cell_type": "code",
   "execution_count": 59,
   "metadata": {},
   "outputs": [
    {
     "name": "stdout",
     "output_type": "stream",
     "text": [
      "(150,)\n",
      "[b'Iris-setosa' b'Iris-setosa' b'Iris-setosa' b'Iris-setosa'\n",
      " b'Iris-setosa']\n"
     ]
    },
    {
     "name": "stderr",
     "output_type": "stream",
     "text": [
      "f:\\win_tensorflow\\install\\lib\\site-packages\\ipykernel_launcher.py:2: VisibleDeprecationWarning: Reading unicode strings without specifying the encoding argument is deprecated. Set the encoding, use None for the system default.\n",
      "  \n"
     ]
    }
   ],
   "source": [
    "url = 'https://archive.ics.uci.edu/ml/machine-learning-databases/iris/iris.data'\n",
    "iris_1d = np.genfromtxt(url, delimiter=',', dtype=None)\n",
    "print(iris_1d.shape)\n",
    "\n",
    "species = np.array([row[4] for row in iris_1d])\n",
    "print(species[:5])"
   ]
  },
  {
   "cell_type": "markdown",
   "metadata": {},
   "source": [
    "27、通过省略鸢尾属植物数据集种类的文本字段，将一维鸢尾属植物数据集转换为二维数组iris_2d。"
   ]
  },
  {
   "cell_type": "code",
   "execution_count": 65,
   "metadata": {},
   "outputs": [
    {
     "name": "stdout",
     "output_type": "stream",
     "text": [
      "[[5.1 3.5 1.4 0.2]\n",
      " [4.9 3.  1.4 0.2]\n",
      " [4.7 3.2 1.3 0.2]\n",
      " [4.6 3.1 1.5 0.2]\n",
      " [5.  3.6 1.4 0.2]]\n"
     ]
    },
    {
     "name": "stderr",
     "output_type": "stream",
     "text": [
      "f:\\win_tensorflow\\install\\lib\\site-packages\\ipykernel_launcher.py:2: VisibleDeprecationWarning: Reading unicode strings without specifying the encoding argument is deprecated. Set the encoding, use None for the system default.\n",
      "  \n"
     ]
    }
   ],
   "source": [
    "url = 'https://archive.ics.uci.edu/ml/machine-learning-databases/iris/iris.data'\n",
    "iris_1d = np.genfromtxt(url, delimiter=',', dtype=None)\n",
    "#把元组变为list\n",
    "iris_2d = np.array([row.tolist()[:4] for row in iris_1d])\n",
    "print(iris_2d[:5])"
   ]
  },
  {
   "cell_type": "markdown",
   "metadata": {},
   "source": [
    "28、求出鸢尾属植物萼片长度的平均值、中位数和标准差(第1列)"
   ]
  },
  {
   "cell_type": "code",
   "execution_count": 78,
   "metadata": {},
   "outputs": [
    {
     "name": "stdout",
     "output_type": "stream",
     "text": [
      "5.843333333333334 5.8 0.8253012917851409\n"
     ]
    }
   ],
   "source": [
    "url = 'https://archive.ics.uci.edu/ml/machine-learning-databases/iris/iris.data'\n",
    "iris = np.genfromtxt(url, delimiter=',', dtype='object')\n",
    "#文本转为数值\n",
    "irisf = iris[:,:1].astype(np.float)\n",
    "print(np.mean(irisf),np.median(irisf),np.std(irisf))"
   ]
  },
  {
   "cell_type": "markdown",
   "metadata": {},
   "source": [
    "29、创建一种标准化形式的鸢尾属植物间隔长度，其值正好介于0和1之间，这样最小值为0，最大值为1"
   ]
  },
  {
   "cell_type": "code",
   "execution_count": 79,
   "metadata": {},
   "outputs": [
    {
     "name": "stdout",
     "output_type": "stream",
     "text": [
      "[0.222222 0.166667 0.111111 0.083333 0.194444 0.305556 0.083333 0.194444\n",
      " 0.027778 0.166667 0.305556 0.138889 0.138889 0.       0.416667 0.388889\n",
      " 0.305556 0.222222 0.388889 0.222222 0.305556 0.222222 0.083333 0.222222\n",
      " 0.138889 0.194444 0.194444 0.25     0.25     0.111111 0.138889 0.305556\n",
      " 0.25     0.333333 0.166667 0.194444 0.333333 0.166667 0.027778 0.222222\n",
      " 0.194444 0.055556 0.027778 0.194444 0.222222 0.138889 0.222222 0.083333\n",
      " 0.277778 0.194444 0.75     0.583333 0.722222 0.333333 0.611111 0.388889\n",
      " 0.555556 0.166667 0.638889 0.25     0.194444 0.444444 0.472222 0.5\n",
      " 0.361111 0.666667 0.361111 0.416667 0.527778 0.361111 0.444444 0.5\n",
      " 0.555556 0.5      0.583333 0.638889 0.694444 0.666667 0.472222 0.388889\n",
      " 0.333333 0.333333 0.416667 0.472222 0.305556 0.472222 0.666667 0.555556\n",
      " 0.361111 0.333333 0.333333 0.5      0.416667 0.194444 0.361111 0.388889\n",
      " 0.388889 0.527778 0.222222 0.388889 0.555556 0.416667 0.777778 0.555556\n",
      " 0.611111 0.916667 0.166667 0.833333 0.666667 0.805556 0.611111 0.583333\n",
      " 0.694444 0.388889 0.416667 0.583333 0.611111 0.944444 0.944444 0.472222\n",
      " 0.722222 0.361111 0.944444 0.555556 0.666667 0.805556 0.527778 0.5\n",
      " 0.583333 0.805556 0.861111 1.       0.583333 0.555556 0.5      0.944444\n",
      " 0.555556 0.583333 0.472222 0.722222 0.666667 0.722222 0.416667 0.694444\n",
      " 0.666667 0.666667 0.555556 0.611111 0.527778 0.444444]\n"
     ]
    }
   ],
   "source": [
    "url = 'https://archive.ics.uci.edu/ml/machine-learning-databases/iris/iris.data'\n",
    "sepallength = np.genfromtxt(url, delimiter=',', dtype='float', usecols=[0])\n",
    "\n",
    "# 归一化\n",
    "Smax, Smin = sepallength.max(), sepallength.min()\n",
    "S = (sepallength - Smin)/(Smax - Smin)\n",
    "# or \n",
    "S = (sepallength - Smin)/sepallength.ptp()  #ptp()就是Smax-Smin\n",
    "print(S)"
   ]
  },
  {
   "cell_type": "markdown",
   "metadata": {},
   "source": [
    "30、计算sepallength的softmax分数。"
   ]
  },
  {
   "cell_type": "code",
   "execution_count": 84,
   "metadata": {},
   "outputs": [
    {
     "name": "stdout",
     "output_type": "stream",
     "text": [
      "[2.619517e+053 1.092154e+198           inf]\n",
      "[ 0.  0. nan]\n"
     ]
    },
    {
     "name": "stderr",
     "output_type": "stream",
     "text": [
      "f:\\win_tensorflow\\install\\lib\\site-packages\\ipykernel_launcher.py:3: RuntimeWarning: overflow encountered in exp\n",
      "  This is separate from the ipykernel package so we can avoid doing imports until\n",
      "f:\\win_tensorflow\\install\\lib\\site-packages\\ipykernel_launcher.py:4: RuntimeWarning: overflow encountered in exp\n",
      "  after removing the cwd from sys.path.\n",
      "f:\\win_tensorflow\\install\\lib\\site-packages\\ipykernel_launcher.py:4: RuntimeWarning: invalid value encountered in true_divide\n",
      "  after removing the cwd from sys.path.\n"
     ]
    }
   ],
   "source": [
    "\n",
    "f = np.array([123, 456, 789]) # 例子中有3个分类，每个评分的数值都很大\n",
    "print(np.exp(f))\n",
    "p = np.exp(f) / np.sum(np.exp(f))  # 不妙：数值问题，可能导致数值爆炸\n",
    "print(p)"
   ]
  },
  {
   "cell_type": "code",
   "execution_count": 87,
   "metadata": {},
   "outputs": [
    {
     "name": "stdout",
     "output_type": "stream",
     "text": [
      "[0.00222  0.001817 0.001488 0.001346 0.002008 0.002996 0.001346 0.002008\n",
      " 0.001102 0.001817 0.002996 0.001644 0.001644 0.000997 0.00447  0.004044\n",
      " 0.002996 0.00222  0.004044 0.00222  0.002996 0.00222  0.001346 0.00222\n",
      " 0.001644 0.002008 0.002008 0.002453 0.002453 0.001488 0.001644 0.002996\n",
      " 0.002453 0.003311 0.001817 0.002008 0.003311 0.001817 0.001102 0.00222\n",
      " 0.002008 0.001218 0.001102 0.002008 0.00222  0.001644 0.00222  0.001346\n",
      " 0.002711 0.002008 0.01484  0.008144 0.013428 0.003311 0.009001 0.004044\n",
      " 0.007369 0.001817 0.009947 0.002453 0.002008 0.00494  0.005459 0.006033\n",
      " 0.003659 0.010994 0.003659 0.00447  0.006668 0.003659 0.00494  0.006033\n",
      " 0.007369 0.006033 0.008144 0.009947 0.01215  0.010994 0.005459 0.004044\n",
      " 0.003311 0.003311 0.00447  0.005459 0.002996 0.005459 0.010994 0.007369\n",
      " 0.003659 0.003311 0.003311 0.006033 0.00447  0.002008 0.003659 0.004044\n",
      " 0.004044 0.006668 0.00222  0.004044 0.007369 0.00447  0.016401 0.007369\n",
      " 0.009001 0.02704  0.001817 0.020032 0.010994 0.018126 0.009001 0.008144\n",
      " 0.01215  0.004044 0.00447  0.008144 0.009001 0.029884 0.029884 0.005459\n",
      " 0.013428 0.003659 0.029884 0.007369 0.010994 0.018126 0.006668 0.006033\n",
      " 0.008144 0.018126 0.022139 0.0365   0.008144 0.007369 0.006033 0.029884\n",
      " 0.007369 0.008144 0.005459 0.013428 0.010994 0.013428 0.00447  0.01215\n",
      " 0.010994 0.010994 0.007369 0.009001 0.006668 0.00494 ]\n"
     ]
    }
   ],
   "source": [
    "#为了防止数值爆炸，数值减去一个最大值\n",
    "url = 'https://archive.ics.uci.edu/ml/machine-learning-databases/iris/iris.data'\n",
    "sepallength = np.genfromtxt(url, delimiter=',', dtype='float', usecols=[0])\n",
    "sepallength -= np.max(sepallength)\n",
    "p = np.exp(sepallength) /np.sum(np.exp(sepallength))\n",
    "print(p)"
   ]
  },
  {
   "cell_type": "code",
   "execution_count": null,
   "metadata": {},
   "outputs": [],
   "source": []
  }
 ],
 "metadata": {
  "kernelspec": {
   "display_name": "Python 3",
   "language": "python",
   "name": "python3"
  },
  "language_info": {
   "codemirror_mode": {
    "name": "ipython",
    "version": 3
   },
   "file_extension": ".py",
   "mimetype": "text/x-python",
   "name": "python",
   "nbconvert_exporter": "python",
   "pygments_lexer": "ipython3",
   "version": "3.6.8"
  }
 },
 "nbformat": 4,
 "nbformat_minor": 2
}
