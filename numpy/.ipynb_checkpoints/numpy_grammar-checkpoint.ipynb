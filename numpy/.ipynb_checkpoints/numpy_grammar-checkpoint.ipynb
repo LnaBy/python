{
 "cells": [
  {
   "cell_type": "markdown",
   "metadata": {},
   "source": [
    "# numpy的创建，属性，索引和切片、广播、计算等基本操作"
   ]
  },
  {
   "cell_type": "markdown",
   "metadata": {},
   "source": [
    "1、 创建numpy数组"
   ]
  },
  {
   "cell_type": "code",
   "execution_count": 1,
   "metadata": {},
   "outputs": [],
   "source": [
    "import numpy as np"
   ]
  },
  {
   "cell_type": "code",
   "execution_count": 13,
   "metadata": {},
   "outputs": [
    {
     "name": "stdout",
     "output_type": "stream",
     "text": [
      "[1 2 3 4 5]\n",
      "1\n",
      "(5,)\n"
     ]
    }
   ],
   "source": [
    "#注意，numpy数组元素之间是空格，没有逗号\n",
    "#一维数组\n",
    "my_array = np.array([1,2,3,4,5])\n",
    "#选择某个元素、数组的大小\n",
    "print(my_array)\n",
    "print(my_array[0])\n",
    "print(my_array.shape)"
   ]
  },
  {
   "cell_type": "code",
   "execution_count": 10,
   "metadata": {},
   "outputs": [
    {
     "name": "stdout",
     "output_type": "stream",
     "text": [
      "[[0. 0. 0.]\n",
      " [0. 0. 0.]]\n",
      "0.0\n",
      "(2, 3)\n"
     ]
    }
   ],
   "source": [
    "#二维数组\n",
    "my_2d_array = np.zeros((2,3))\n",
    "print(my_2d_array)\n",
    "print(my_2d_array[1][1])\n",
    "print(my_2d_array.shape)"
   ]
  },
  {
   "cell_type": "code",
   "execution_count": 12,
   "metadata": {},
   "outputs": [
    {
     "name": "stdout",
     "output_type": "stream",
     "text": [
      "[1 2 3 4]\n",
      "[1 2 3 4]\n",
      "[0 1 2 3 4]\n",
      "[ 0.          3.33333333  6.66666667 10.        ]\n"
     ]
    }
   ],
   "source": [
    "#其他的创建方式\n",
    "array_1 = np.array([1,2,3,4])\n",
    "\n",
    "array_2 = np.array((1,2,3,4)) #不仅是list数组，类list也可以\n",
    "\n",
    "array_3 = np.arange(5)\n",
    "\n",
    "array_4 = np.linspace(0,10,4)\n",
    "\n",
    "print(array_1)\n",
    "print(array_2)\n",
    "print(array_3)\n",
    "print(array_4)"
   ]
  },
  {
   "cell_type": "code",
   "execution_count": 2,
   "metadata": {},
   "outputs": [
    {
     "name": "stdout",
     "output_type": "stream",
     "text": [
      "[[0. 0. 0.]\n",
      " [0. 0. 0.]]\n",
      "[[1. 1. 1.]\n",
      " [1. 1. 1.]]\n",
      "[[7 7 7]\n",
      " [7 7 7]]\n",
      "[[1. 0.]\n",
      " [0. 1.]]\n"
     ]
    }
   ],
   "source": [
    "#创建特殊的数组\n",
    "array_zero = np.zeros((2,3)) #(2,3)大小的矩阵，值为0\n",
    "\n",
    "array_one = np.ones((2,3))  #(2,3)大小的矩阵，值为1\n",
    "\n",
    "array_const = np.full((2,3),7) #(2,3)大小的矩阵，值为7\n",
    "\n",
    "array_eye = np.eye(2)   #创建单位矩阵\n",
    "\n",
    "print(array_zero)\n",
    "print(array_one)\n",
    "print(array_const)\n",
    "print(array_eye)"
   ]
  },
  {
   "cell_type": "code",
   "execution_count": 27,
   "metadata": {},
   "outputs": [
    {
     "name": "stdout",
     "output_type": "stream",
     "text": [
      "<class 'numpy.ndarray'>\n",
      "int32\n",
      "(2, 3)\n",
      "6\n",
      "2\n",
      "4\n",
      "24\n"
     ]
    }
   ],
   "source": [
    "#numpy常见的属性\n",
    "array_property = np.array([[1,2,3],[2,3,4]])\n",
    "print(type(array_property)) #对象类型\n",
    "print(array_property.dtype) #元素类型\n",
    "print(array_property.shape) #数组的形状\n",
    "print(array_property.size)  #元素个数\n",
    "print(array_property.ndim)  #数组维数\n",
    "print(array_property.itemsize) #单个元素占用的字节数（int32，4个字节）\n",
    "print(array_property.nbytes) #所有元素占用的字节数（4*6=24）"
   ]
  },
  {
   "cell_type": "markdown",
   "metadata": {},
   "source": [
    "2、numpy数组的加减乘除"
   ]
  },
  {
   "cell_type": "code",
   "execution_count": 4,
   "metadata": {},
   "outputs": [
    {
     "name": "stdout",
     "output_type": "stream",
     "text": [
      "[[ 6  8]\n",
      " [10 12]]\n",
      "[[-4 -4]\n",
      " [-4 -4]]\n",
      "[[ 5 12]\n",
      " [21 32]]\n",
      "[[0.2        0.33333333]\n",
      " [0.42857143 0.5       ]]\n",
      "[[ 1  4]\n",
      " [ 9 16]]\n"
     ]
    }
   ],
   "source": [
    "#加减乘除，平方，均为对应位置元素操作\n",
    "a = np.array([[1,2],[3,4]])\n",
    "b = np.array([[5,6],[7,8]])\n",
    "sum = a + b    #等价 np.add(a,b)\n",
    "difference = a - b  #等价 np.subtract(a,b)\n",
    "product = a * b  #对应位置相乘   #等价 np.multiply(a,b)\n",
    "quotient = a / b  #等价 np.divide(a,b)\n",
    "square = a ** 2   #等价 np.sqrt(a)\n",
    "\n",
    "print(sum)\n",
    "print(difference)\n",
    "print(product)\n",
    "print(quotient)\n",
    "print(square)"
   ]
  },
  {
   "cell_type": "code",
   "execution_count": 5,
   "metadata": {},
   "outputs": [
    {
     "name": "stdout",
     "output_type": "stream",
     "text": [
      "[[19 22]\n",
      " [43 50]]\n",
      "32\n"
     ]
    }
   ],
   "source": [
    "#如果矩阵相乘？\n",
    "matrix_product = a.dot(b)\n",
    "dot_1_array = np.array([1,2,3])\n",
    "dot_2_array = np.array([4,5,6])\n",
    "print(matrix_product)\n",
    "print(dot_1_array.dot(dot_2_array))"
   ]
  },
  {
   "cell_type": "markdown",
   "metadata": {},
   "source": [
    "3、索引和切片"
   ]
  },
  {
   "cell_type": "code",
   "execution_count": 3,
   "metadata": {},
   "outputs": [
    {
     "name": "stdout",
     "output_type": "stream",
     "text": [
      "23\n",
      "23\n",
      "[21 22 23 24 25]\n",
      "[12 13 14]\n",
      "[[12 13 14]\n",
      " [17 18 19]\n",
      " [22 23 24]\n",
      " [27 28 29]\n",
      " [32 33 34]]\n",
      "[[11 12 13 14 15]\n",
      " [21 22 23 24 25]]\n",
      "[18 25]\n",
      "[2 3]\n",
      "[ 0 10 20 30 40 50 60 70 80 90]\n",
      "(array([0, 1, 2, 3, 4], dtype=int64),)\n",
      "[ 0 10 20 30 40]\n",
      "[5 6 7 8 9]\n",
      "[[ 0 10 20 30 40]\n",
      " [50 60 70 80 90]]\n",
      "(array([0, 0, 0, 0, 0, 1], dtype=int64), array([0, 1, 2, 3, 4, 0], dtype=int64))\n"
     ]
    }
   ],
   "source": [
    "clip_matrix = np.array([[11,12,13,14,15],\n",
    "                        [16,17,18,19,20],\n",
    "                        [21,22,23,24,25],\n",
    "                        [26,27,28,29,30],\n",
    "                        [31,32,33,34,35]])\n",
    "#选取某个元素,2行2列\n",
    "print(clip_matrix[2][2])\n",
    "print(clip_matrix[2,2])  #与clip_matrix[2][2]功能一样\n",
    "#选取某一行\n",
    "print(clip_matrix[2])\n",
    "#进行多维度选择\n",
    "print(clip_matrix[0,1:4]) #0行，1到4列（左闭右开）\n",
    "print(clip_matrix[:,1:4]) #所有行，1到4列（左闭右开）\n",
    "#更高级的元素选择\n",
    "print(clip_matrix[:3:2,:]) #选择0到3行，间隔为2，所有列\n",
    "\n",
    "#花式索引\n",
    "indices = ([1,2],[2,4])\n",
    "print(clip_matrix[indices]) #与clip_matrix[1][2]和clip_matrix[2][4]功能一样\n",
    "\n",
    "#使用布尔索引\n",
    "bool_array = np.array([-1,2,3,0])\n",
    "indices = bool_array > 0\n",
    "print(bool_array[indices])#选择大于0的值\n",
    "\n",
    "#where索引\n",
    "a = np.arange(0, 100, 10)\n",
    "b = np.where(a < 50)  #返回下标,tuple形式\n",
    "c = np.where(a >= 50)[0]\n",
    "print(a)\n",
    "print(b) # >>>(array([0, 1, 2, 3, 4]),)\n",
    "print(a[b])\n",
    "print(c) # >>>[5 6 7 8 9]\n",
    "#二维where\n",
    "d2_a = a.reshape((2,5))\n",
    "print(d2_a)\n",
    "print(np.where(d2_a<60)) #返回坐标，由于是二维的，每个数组代表一个维度"
   ]
  },
  {
   "cell_type": "markdown",
   "metadata": {},
   "source": [
    "4、广播操作:\n",
    "广播是一种强大的机制，它允许numpy在执行算术运算时使用不同形状的数组。通常，我们有一个较小的数组和一个较大的数组，我们希望多次使用较小的数组来对较大的数组执行一些操作。"
   ]
  },
  {
   "cell_type": "code",
   "execution_count": 24,
   "metadata": {},
   "outputs": [
    {
     "name": "stdout",
     "output_type": "stream",
     "text": [
      "[4 5 6]\n",
      "[[4 5]\n",
      " [6 7]]\n",
      "[2 4 6]\n",
      "[[ 2  4  6]\n",
      " [ 4  6  8]\n",
      " [ 6  8 10]]\n",
      "[[1 2]\n",
      " [2 4]\n",
      " [4 8]]\n",
      "[[1 2 4]\n",
      " [2 4 8]]\n"
     ]
    }
   ],
   "source": [
    "#数组或者向量与标量\n",
    "array_1 = np.array([1,2,3])\n",
    "array_2 = np.array([[1,2],[3,4]])\n",
    "scalar_1 = 3\n",
    "scalar_bc_1 = array_1 + scalar_1  #每个元素均加上标量\n",
    "scalar_bc_2 = array_2 + scalar_1\n",
    "print(scalar_bc_1)\n",
    "print(scalar_bc_2)\n",
    "\n",
    "#数组或者向量与向量\n",
    "array_3 = np.array([1,2,3])\n",
    "array_4 = np.array([[1,2,3],[3,4,5],[5,6,7]])\n",
    "vector_1 = np.array([1,2,3])\n",
    "vector_bc_1 = array_3 + vector_1  #每个元素均加上标量\n",
    "vector_bc_2 = array_4 + vector_1 #vector，扩展为[[1,2,3],[1,2,3],[1,2,3]]\n",
    "print(vector_bc_1)\n",
    "print(vector_bc_2)\n",
    "\n",
    "#计算维度不同的向量,每个维度都从1扩展到最大值，即同一个维度，要么相同，要么其中一个维度为1\n",
    "array_5 = np.array([1,2,4]) #(3,)\n",
    "array_6 = np.array([1,2])   #(2,)\n",
    "\n",
    "print(np.reshape(array_5,(3,1))*array_6)  #(3,1)->(3,2)*(3,2)<-(2,)\n",
    "print(np.reshape(array_6,(2,1))*array_5)"
   ]
  },
  {
   "cell_type": "code",
   "execution_count": null,
   "metadata": {},
   "outputs": [],
   "source": [
    "举例1,图像rbg,是的像素值扩大三倍,则下面可以兼容\n",
    "Image  (3d array): 256 x 256 x 3\n",
    "Scale  (1d array):         3        #可以看作1x1x3\n",
    "Result (3d array): 256 x 256 x 3\n",
    "\n",
    "举例2,当比较的任何一个维度为1时,则使用另一个.换句话说,大小为1的维被拉伸或复制以匹配另一维.\n",
    "在以下示例中.A和B数组都具有长度为1的轴,在broadcast操作期间将其扩展为更大的大小\n",
    "A      (4d array): 8 x 1 x 6 x 1\n",
    "B      (3d array):    7 x 1 x 5    #可以看作1x7x1x5\n",
    "Result  (4d array):  8 x 7 x 6 x 5\n",
    "\n",
    "例子3\n",
    "A      (2d array):  5 x 4\n",
    "B      (1d array):     1  #可以看作1x1，均扩展\n",
    "Result   (2d array):  5 x 4\n",
    "\n",
    "例子4不具有兼容性\n",
    "A      (1d array):  3\n",
    "B      (1d array):  4   \n",
    "例子5不具有兼容性\n",
    "A      (2d array):     2 x 1\n",
    "B      (3d array):  8 x 4 x 3  "
   ]
  },
  {
   "cell_type": "markdown",
   "metadata": {},
   "source": [
    "5、数组特殊运算符"
   ]
  },
  {
   "cell_type": "code",
   "execution_count": 8,
   "metadata": {},
   "outputs": [
    {
     "name": "stdout",
     "output_type": "stream",
     "text": [
      "[0 1 2 3 4 5 6 7 8 9]\n",
      "45\n",
      "0\n",
      "9\n",
      "[ 0  1  3  6 10 15 21 28 36 45]\n",
      "[4 6]\n",
      "[3 7]\n",
      "[[1 3]\n",
      " [2 4]]\n"
     ]
    }
   ],
   "source": [
    "op_array = np.arange(10)\n",
    "print(op_array)\n",
    "print(op_array.sum()) #求和\n",
    "print(op_array.min()) #最小值\n",
    "print(op_array.max()) #最大值\n",
    "print(op_array.cumsum()) #累加 \n",
    "#它将像sum()这样的每个元素相加，但是它首先将第一个元素和第二个元素相加，并将计算结果存储在一个列表中，\n",
    "#然后将该结果添加到第三个元素中，然后再将该结果存储在一个列表中。这将对数组中的所有元素执行此操作，并返回作为列表的数组之和的运行总数。\n",
    "\n",
    "#另外也可以求得每行，每列的值\n",
    "op_2_array = np.array([[1,2],[3,4]])\n",
    "print(op_2_array.sum(axis = 0))  #列求和\n",
    "print(np.sum(op_2_array,axis=1)) #行求和\n",
    "\n",
    "#转置操作\n",
    "print(op_2_array.T)"
   ]
  },
  {
   "cell_type": "code",
   "execution_count": null,
   "metadata": {},
   "outputs": [],
   "source": []
  }
 ],
 "metadata": {
  "kernelspec": {
   "display_name": "Python 3",
   "language": "python",
   "name": "python3"
  },
  "language_info": {
   "codemirror_mode": {
    "name": "ipython",
    "version": 3
   },
   "file_extension": ".py",
   "mimetype": "text/x-python",
   "name": "python",
   "nbconvert_exporter": "python",
   "pygments_lexer": "ipython3",
   "version": "3.6.8"
  }
 },
 "nbformat": 4,
 "nbformat_minor": 2
}
