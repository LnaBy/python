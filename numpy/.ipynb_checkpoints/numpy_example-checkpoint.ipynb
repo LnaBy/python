{
 "cells": [
  {
   "cell_type": "markdown",
   "metadata": {},
   "source": [
    "# 练习题"
   ]
  },
  {
   "cell_type": "code",
   "execution_count": 1,
   "metadata": {},
   "outputs": [],
   "source": [
    "import numpy as np"
   ]
  },
  {
   "cell_type": "markdown",
   "metadata": {},
   "source": [
    "1、查看numpy 版本"
   ]
  },
  {
   "cell_type": "code",
   "execution_count": 4,
   "metadata": {},
   "outputs": [
    {
     "name": "stdout",
     "output_type": "stream",
     "text": [
      "1.16.4\n"
     ]
    }
   ],
   "source": [
    "print(np.__version__)"
   ]
  },
  {
   "cell_type": "markdown",
   "metadata": {},
   "source": [
    "2、创建0到9的一维数组"
   ]
  },
  {
   "cell_type": "code",
   "execution_count": 5,
   "metadata": {},
   "outputs": [
    {
     "name": "stdout",
     "output_type": "stream",
     "text": [
      "[0 1 2 3 4 5 6 7 8 9]\n"
     ]
    }
   ],
   "source": [
    "vector = np.arange(10)\n",
    "print(vector)"
   ]
  },
  {
   "cell_type": "markdown",
   "metadata": {},
   "source": [
    "3、创建一个全为true的布尔数组"
   ]
  },
  {
   "cell_type": "code",
   "execution_count": 8,
   "metadata": {},
   "outputs": [
    {
     "name": "stdout",
     "output_type": "stream",
     "text": [
      "[[ True  True]\n",
      " [ True  True]]\n",
      "[[ True  True  True]\n",
      " [ True  True  True]]\n"
     ]
    }
   ],
   "source": [
    "vec_bool = np.full((2,2),True)\n",
    "print(vec_bool)\n",
    "\n",
    "vec_bool_1 = np.ones((2,3),dtype = bool)\n",
    "print(vec_bool_1)"
   ]
  },
  {
   "cell_type": "markdown",
   "metadata": {},
   "source": [
    "4、从arr中提取所有奇数"
   ]
  },
  {
   "cell_type": "code",
   "execution_count": 14,
   "metadata": {},
   "outputs": [
    {
     "name": "stdout",
     "output_type": "stream",
     "text": [
      "[1, 3, 5, 7, 9, 11]\n",
      "[ 1  3  5  7  9 11]\n"
     ]
    }
   ],
   "source": [
    "arr = np.arange(12)\n",
    "oddNums =[x for x in arr if x%2 != 0]\n",
    "print(oddNums)\n",
    "print(arr[arr%2==1])"
   ]
  },
  {
   "cell_type": "markdown",
   "metadata": {},
   "source": [
    "5、将arr中的所有奇数替换为1"
   ]
  },
  {
   "cell_type": "code",
   "execution_count": 15,
   "metadata": {},
   "outputs": [
    {
     "name": "stdout",
     "output_type": "stream",
     "text": [
      "[ 0 -1  2 -1  4 -1  6 -1  8 -1]\n"
     ]
    }
   ],
   "source": [
    "arr = np.arange(10)\n",
    "arr[arr % 2 ==1] = -1\n",
    "print(arr)"
   ]
  },
  {
   "cell_type": "markdown",
   "metadata": {},
   "source": [
    "6、将arr中的所有奇数替换为1，原数组不发生改变"
   ]
  },
  {
   "cell_type": "code",
   "execution_count": 18,
   "metadata": {},
   "outputs": [
    {
     "name": "stdout",
     "output_type": "stream",
     "text": [
      "[ 0 -1  2 -1  4 -1  6 -1  8 -1]\n"
     ]
    }
   ],
   "source": [
    "#np.where(condition, x, y) 满足条件(condition)，输出x，不满足输出y。\n",
    "arr = np.arange(10)\n",
    "print(np.where(arr % 2 == 0,arr,-1))"
   ]
  },
  {
   "cell_type": "markdown",
   "metadata": {},
   "source": [
    "补充 where"
   ]
  },
  {
   "cell_type": "code",
   "execution_count": 60,
   "metadata": {},
   "outputs": [
    {
     "name": "stdout",
     "output_type": "stream",
     "text": [
      "(array([1, 2, 3, 4, 5, 6, 7, 8, 9], dtype=int64),)\n",
      "(array([0, 0, 1, 1], dtype=int64), array([0, 2, 0, 1], dtype=int64))\n",
      "(array([5, 6, 7, 8, 9], dtype=int64),)\n",
      "(array([0, 1, 1], dtype=int64), array([2, 0, 1], dtype=int64))\n",
      "[ 0  1 -2  3 -4  5 -6  7 -8  9]\n",
      "[[30 70 50]\n",
      " [30 40 80]]\n"
     ]
    }
   ],
   "source": [
    "#第一种用法：只给where()函数传递一个数组作为参数，返回其中非0元素的下标。\n",
    "x = np.arange(10)\n",
    "print(np.where(x))\n",
    "y = np.array([[1,0,3],[4,5,0]])\n",
    "print(np.where(y)) #非0元素下标分别为[0,0],[0,2],[1,0],[1,1],二维的返回用一个元组表示，一维代表行下标，一维代表列下标\n",
    "\n",
    "#第二种用法：给where()函数传递一个包含True/False值的数组，返回该数组中True值的下标，结合numpy数组的关系运算，可以返回数组中符合特定条件的元素的下标。\n",
    "x = np.arange(10)\n",
    "print(np.where(x>4))\n",
    "y = np.array([[1,0,3],[4,5,0]])\n",
    "print(np.where(y>2))\n",
    "#第三种用法：给where()函数传递一个条件数组和两个值或数组，对于条件数组中等价于True的位置，从第一个值或数组中取值进行替换，否则从第二个值或数组中取值进行替换\n",
    "x = np.arange(10)\n",
    "print(np.where(x%2==1,x,-x))#奇数不变，偶数变为相反数，且返回为改变之后的值\n",
    "y = np.array([[1,0,3],[4,5,0]])\n",
    "print(np.where(y,[30,40,50],[60,70,80]))#对于每行，大于1，替换对应的[30,40,50],反之替换[60,70,80]\n"
   ]
  },
  {
   "cell_type": "markdown",
   "metadata": {},
   "source": [
    "7、将一维数组转换为2行的2维数组"
   ]
  },
  {
   "cell_type": "code",
   "execution_count": 22,
   "metadata": {},
   "outputs": [
    {
     "name": "stdout",
     "output_type": "stream",
     "text": [
      "[[ 0  1  2  3  4  5]\n",
      " [ 6  7  8  9 10 11]]\n"
     ]
    }
   ],
   "source": [
    "arr = np.arange(12)\n",
    "print(arr.reshape(2,-1))"
   ]
  },
  {
   "cell_type": "markdown",
   "metadata": {},
   "source": [
    "8、垂直堆叠数组a和数组b"
   ]
  },
  {
   "cell_type": "code",
   "execution_count": 34,
   "metadata": {},
   "outputs": [
    {
     "name": "stdout",
     "output_type": "stream",
     "text": [
      "[[0 1 2 3 4]\n",
      " [5 6 7 8 9]\n",
      " [1 1 1 1 1]\n",
      " [1 1 1 1 1]]\n",
      "[[0 1 2 3 4]\n",
      " [5 6 7 8 9]\n",
      " [1 1 1 1 1]\n",
      " [1 1 1 1 1]]\n",
      "[[0 1 2 3 4]\n",
      " [5 6 7 8 9]\n",
      " [1 1 1 1 1]\n",
      " [1 1 1 1 1]]\n"
     ]
    }
   ],
   "source": [
    "a = np.arange(10).reshape(2,-1)\n",
    "b = np.repeat(1, 10).reshape(2,-1)  #10个1\n",
    "\n",
    "#方法一\n",
    "print(np.concatenate([a,b],axis = 0))\n",
    "#方法二\n",
    "print(np.vstack([a,b]))\n",
    "#方法三\n",
    "print(np.r_[a,b])"
   ]
  },
  {
   "cell_type": "markdown",
   "metadata": {},
   "source": [
    "9、水平堆叠数组a和数组b"
   ]
  },
  {
   "cell_type": "code",
   "execution_count": 35,
   "metadata": {},
   "outputs": [
    {
     "name": "stdout",
     "output_type": "stream",
     "text": [
      "[[0 1 2 3 4 1 1 1 1 1]\n",
      " [5 6 7 8 9 1 1 1 1 1]]\n",
      "[[0 1 2 3 4 1 1 1 1 1]\n",
      " [5 6 7 8 9 1 1 1 1 1]]\n",
      "[[0 1 2 3 4 1 1 1 1 1]\n",
      " [5 6 7 8 9 1 1 1 1 1]]\n"
     ]
    }
   ],
   "source": [
    "a = np.arange(10).reshape(2,-1)\n",
    "b = np.repeat(1, 10).reshape(2,-1)  #10个1\n",
    "\n",
    "#方法一\n",
    "print(np.concatenate([a,b],axis = 1))\n",
    "#方法二\n",
    "print(np.hstack([a,b]))\n",
    "#方法三\n",
    "print(np.c_[a,b])"
   ]
  },
  {
   "cell_type": "markdown",
   "metadata": {},
   "source": [
    "10、创建以下模式而不使用硬编码。只使用numpy函数和下面的输入数组a"
   ]
  },
  {
   "cell_type": "code",
   "execution_count": 41,
   "metadata": {},
   "outputs": [
    {
     "name": "stdout",
     "output_type": "stream",
     "text": [
      "[1 1 2 2 3 3]\n",
      "[1 2 3 1 2 3 1 2 3]\n",
      "[1 1 2 2 3 3 1 2 3 1 2 3 1 2 3]\n"
     ]
    }
   ],
   "source": [
    "a = np.array([1,2,3])\n",
    "aa = np.repeat(a,2)\n",
    "bb = np.tile(a,3)\n",
    "print(aa)\n",
    "print(bb)\n",
    "#在numpy中，一个列表虽然是横着表示的，但它是列向量。\n",
    "print(np.r_[aa,bb])"
   ]
  },
  {
   "cell_type": "markdown",
   "metadata": {},
   "source": [
    "补充tile和repeat"
   ]
  },
  {
   "cell_type": "code",
   "execution_count": 45,
   "metadata": {},
   "outputs": [
    {
     "name": "stdout",
     "output_type": "stream",
     "text": [
      "[[1 2 1 2 1 2 1 2]\n",
      " [3 4 3 4 3 4 3 4]\n",
      " [1 2 1 2 1 2 1 2]\n",
      " [3 4 3 4 3 4 3 4]]\n"
     ]
    }
   ],
   "source": [
    "#tile的用法， tile() 函数，就是将原矩阵横向、纵向地复制\n",
    "mat = np.array([[1,2], [3, 4]])\n",
    "#横向和纵向，（m,n）m表示纵向，n表示横向\n",
    "print(np.tile(mat,(2,4)))"
   ]
  },
  {
   "cell_type": "code",
   "execution_count": 52,
   "metadata": {},
   "outputs": [
    {
     "name": "stdout",
     "output_type": "stream",
     "text": [
      "[1 1 2 2 3 3 4 4]\n",
      "[[1 2]\n",
      " [1 2]\n",
      " [3 4]\n",
      " [3 4]]\n",
      "[[1 1 2 2]\n",
      " [3 3 4 4]]\n",
      "[[1 1 2 2 2]\n",
      " [3 3 4 4 4]]\n",
      "[[1 2]\n",
      " [1 2]\n",
      " [3 4]\n",
      " [3 4]\n",
      " [3 4]]\n"
     ]
    }
   ],
   "source": [
    "#repeat，即每列或者每行复制的个数\n",
    "mat = np.array([[1,2], [3, 4]])\n",
    "#axis=None，时候就会flatten当前矩阵，实际上就是变成了一个向量\n",
    "print(np.repeat(mat,2,axis=None))  \n",
    "\n",
    "#axis=0,沿着y轴复制，实际上增加了行数\n",
    "print(np.repeat(mat,2,axis=0))  \n",
    "\n",
    "#axis=1,沿着x轴复制，实际上增加列数\n",
    "print(np.repeat(mat,2,axis=1))\n",
    "\n",
    "#repeats可以为一个数，也可以为一个矩阵,每个数字代表的每一列的复制个数\n",
    "print(np.repeat(mat,[2,3],axis=1))\n",
    "print(np.repeat(mat,[2,3],axis=0))"
   ]
  },
  {
   "cell_type": "code",
   "execution_count": null,
   "metadata": {},
   "outputs": [],
   "source": []
  }
 ],
 "metadata": {
  "kernelspec": {
   "display_name": "Python 3",
   "language": "python",
   "name": "python3"
  },
  "language_info": {
   "codemirror_mode": {
    "name": "ipython",
    "version": 3
   },
   "file_extension": ".py",
   "mimetype": "text/x-python",
   "name": "python",
   "nbconvert_exporter": "python",
   "pygments_lexer": "ipython3",
   "version": "3.6.8"
  }
 },
 "nbformat": 4,
 "nbformat_minor": 2
}
