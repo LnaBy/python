{
 "cells": [
  {
   "cell_type": "markdown",
   "metadata": {},
   "source": [
    "# 练习题"
   ]
  },
  {
   "cell_type": "code",
   "execution_count": 1,
   "metadata": {},
   "outputs": [],
   "source": [
    "import numpy as np"
   ]
  },
  {
   "cell_type": "markdown",
   "metadata": {},
   "source": [
    "1、查看numpy 版本"
   ]
  },
  {
   "cell_type": "code",
   "execution_count": 4,
   "metadata": {},
   "outputs": [
    {
     "name": "stdout",
     "output_type": "stream",
     "text": [
      "1.16.4\n"
     ]
    }
   ],
   "source": [
    "print(np.__version__)"
   ]
  },
  {
   "cell_type": "markdown",
   "metadata": {},
   "source": [
    "2、创建0到9的一维数组"
   ]
  },
  {
   "cell_type": "code",
   "execution_count": 5,
   "metadata": {},
   "outputs": [
    {
     "name": "stdout",
     "output_type": "stream",
     "text": [
      "[0 1 2 3 4 5 6 7 8 9]\n"
     ]
    }
   ],
   "source": [
    "vector = np.arange(10)\n",
    "print(vector)"
   ]
  },
  {
   "cell_type": "markdown",
   "metadata": {},
   "source": [
    "3、创建一个全为true的布尔数组"
   ]
  },
  {
   "cell_type": "code",
   "execution_count": 8,
   "metadata": {},
   "outputs": [
    {
     "name": "stdout",
     "output_type": "stream",
     "text": [
      "[[ True  True]\n",
      " [ True  True]]\n",
      "[[ True  True  True]\n",
      " [ True  True  True]]\n"
     ]
    }
   ],
   "source": [
    "vec_bool = np.full((2,2),True)\n",
    "print(vec_bool)\n",
    "\n",
    "vec_bool_1 = np.ones((2,3),dtype = bool)\n",
    "print(vec_bool_1)"
   ]
  },
  {
   "cell_type": "markdown",
   "metadata": {},
   "source": [
    "4、从arr中提取所有奇数"
   ]
  },
  {
   "cell_type": "code",
   "execution_count": 14,
   "metadata": {},
   "outputs": [
    {
     "name": "stdout",
     "output_type": "stream",
     "text": [
      "[1, 3, 5, 7, 9, 11]\n",
      "[ 1  3  5  7  9 11]\n"
     ]
    }
   ],
   "source": [
    "arr = np.arange(12)\n",
    "oddNums =[x for x in arr if x%2 != 0]\n",
    "print(oddNums)\n",
    "print(arr[arr%2==1])"
   ]
  },
  {
   "cell_type": "markdown",
   "metadata": {},
   "source": [
    "5、将arr中的所有奇数替换为1"
   ]
  },
  {
   "cell_type": "code",
   "execution_count": 15,
   "metadata": {},
   "outputs": [
    {
     "name": "stdout",
     "output_type": "stream",
     "text": [
      "[ 0 -1  2 -1  4 -1  6 -1  8 -1]\n"
     ]
    }
   ],
   "source": [
    "arr = np.arange(10)\n",
    "arr[arr % 2 ==1] = -1\n",
    "print(arr)"
   ]
  },
  {
   "cell_type": "markdown",
   "metadata": {},
   "source": [
    "6、将arr中的所有奇数替换为1，原数组不发生改变"
   ]
  },
  {
   "cell_type": "code",
   "execution_count": 18,
   "metadata": {},
   "outputs": [
    {
     "name": "stdout",
     "output_type": "stream",
     "text": [
      "[ 0 -1  2 -1  4 -1  6 -1  8 -1]\n"
     ]
    }
   ],
   "source": [
    "#np.where(condition, x, y) 满足条件(condition)，输出x，不满足输出y。\n",
    "arr = np.arange(10)\n",
    "print(np.where(arr % 2 == 0,arr,-1))"
   ]
  },
  {
   "cell_type": "markdown",
   "metadata": {},
   "source": [
    "补充 where"
   ]
  },
  {
   "cell_type": "code",
   "execution_count": 60,
   "metadata": {},
   "outputs": [
    {
     "name": "stdout",
     "output_type": "stream",
     "text": [
      "(array([1, 2, 3, 4, 5, 6, 7, 8, 9], dtype=int64),)\n",
      "(array([0, 0, 1, 1], dtype=int64), array([0, 2, 0, 1], dtype=int64))\n",
      "(array([5, 6, 7, 8, 9], dtype=int64),)\n",
      "(array([0, 1, 1], dtype=int64), array([2, 0, 1], dtype=int64))\n",
      "[ 0  1 -2  3 -4  5 -6  7 -8  9]\n",
      "[[30 70 50]\n",
      " [30 40 80]]\n"
     ]
    }
   ],
   "source": [
    "#第一种用法：只给where()函数传递一个数组作为参数，返回其中非0元素的下标。\n",
    "x = np.arange(10)\n",
    "print(np.where(x))\n",
    "y = np.array([[1,0,3],[4,5,0]])\n",
    "print(np.where(y)) #非0元素下标分别为[0,0],[0,2],[1,0],[1,1],二维的返回用一个元组表示，一维代表行下标，一维代表列下标\n",
    "\n",
    "#第二种用法：给where()函数传递一个包含True/False值的数组，返回该数组中True值的下标，结合numpy数组的关系运算，可以返回数组中符合特定条件的元素的下标。\n",
    "x = np.arange(10)\n",
    "print(np.where(x>4))\n",
    "y = np.array([[1,0,3],[4,5,0]])\n",
    "print(np.where(y>2))\n",
    "#第三种用法：给where()函数传递一个条件数组和两个值或数组，对于条件数组中等价于True的位置，从第一个值或数组中取值进行替换，否则从第二个值或数组中取值进行替换\n",
    "x = np.arange(10)\n",
    "print(np.where(x%2==1,x,-x))#奇数不变，偶数变为相反数，且返回为改变之后的值\n",
    "y = np.array([[1,0,3],[4,5,0]])\n",
    "print(np.where(y,[30,40,50],[60,70,80]))#对于每行，大于1，替换对应的[30,40,50],反之替换[60,70,80]\n"
   ]
  },
  {
   "cell_type": "markdown",
   "metadata": {},
   "source": [
    "7、将一维数组转换为2行的2维数组"
   ]
  },
  {
   "cell_type": "code",
   "execution_count": 22,
   "metadata": {},
   "outputs": [
    {
     "name": "stdout",
     "output_type": "stream",
     "text": [
      "[[ 0  1  2  3  4  5]\n",
      " [ 6  7  8  9 10 11]]\n"
     ]
    }
   ],
   "source": [
    "arr = np.arange(12)\n",
    "print(arr.reshape(2,-1))"
   ]
  },
  {
   "cell_type": "markdown",
   "metadata": {},
   "source": [
    "8、垂直堆叠数组a和数组b"
   ]
  },
  {
   "cell_type": "code",
   "execution_count": 34,
   "metadata": {},
   "outputs": [
    {
     "name": "stdout",
     "output_type": "stream",
     "text": [
      "[[0 1 2 3 4]\n",
      " [5 6 7 8 9]\n",
      " [1 1 1 1 1]\n",
      " [1 1 1 1 1]]\n",
      "[[0 1 2 3 4]\n",
      " [5 6 7 8 9]\n",
      " [1 1 1 1 1]\n",
      " [1 1 1 1 1]]\n",
      "[[0 1 2 3 4]\n",
      " [5 6 7 8 9]\n",
      " [1 1 1 1 1]\n",
      " [1 1 1 1 1]]\n"
     ]
    }
   ],
   "source": [
    "a = np.arange(10).reshape(2,-1)\n",
    "b = np.repeat(1, 10).reshape(2,-1)  #10个1\n",
    "\n",
    "#方法一\n",
    "print(np.concatenate([a,b],axis = 0))\n",
    "#方法二\n",
    "print(np.vstack([a,b]))\n",
    "#方法三\n",
    "print(np.r_[a,b])"
   ]
  },
  {
   "cell_type": "markdown",
   "metadata": {},
   "source": [
    "9、水平堆叠数组a和数组b"
   ]
  },
  {
   "cell_type": "code",
   "execution_count": 35,
   "metadata": {},
   "outputs": [
    {
     "name": "stdout",
     "output_type": "stream",
     "text": [
      "[[0 1 2 3 4 1 1 1 1 1]\n",
      " [5 6 7 8 9 1 1 1 1 1]]\n",
      "[[0 1 2 3 4 1 1 1 1 1]\n",
      " [5 6 7 8 9 1 1 1 1 1]]\n",
      "[[0 1 2 3 4 1 1 1 1 1]\n",
      " [5 6 7 8 9 1 1 1 1 1]]\n"
     ]
    }
   ],
   "source": [
    "a = np.arange(10).reshape(2,-1)\n",
    "b = np.repeat(1, 10).reshape(2,-1)  #10个1\n",
    "\n",
    "#方法一\n",
    "print(np.concatenate([a,b],axis = 1))\n",
    "#方法二\n",
    "print(np.hstack([a,b]))\n",
    "#方法三\n",
    "print(np.c_[a,b])"
   ]
  },
  {
   "cell_type": "markdown",
   "metadata": {},
   "source": [
    "10、创建以下模式而不使用硬编码。只使用numpy函数和下面的输入数组a"
   ]
  },
  {
   "cell_type": "code",
   "execution_count": 41,
   "metadata": {},
   "outputs": [
    {
     "name": "stdout",
     "output_type": "stream",
     "text": [
      "[1 1 2 2 3 3]\n",
      "[1 2 3 1 2 3 1 2 3]\n",
      "[1 1 2 2 3 3 1 2 3 1 2 3 1 2 3]\n"
     ]
    }
   ],
   "source": [
    "a = np.array([1,2,3])\n",
    "aa = np.repeat(a,2)\n",
    "bb = np.tile(a,3)\n",
    "print(aa)\n",
    "print(bb)\n",
    "#在numpy中，一个列表虽然是横着表示的，但它是列向量。\n",
    "print(np.r_[aa,bb])"
   ]
  },
  {
   "cell_type": "markdown",
   "metadata": {},
   "source": [
    "补充tile和repeat"
   ]
  },
  {
   "cell_type": "code",
   "execution_count": 45,
   "metadata": {},
   "outputs": [
    {
     "name": "stdout",
     "output_type": "stream",
     "text": [
      "[[1 2 1 2 1 2 1 2]\n",
      " [3 4 3 4 3 4 3 4]\n",
      " [1 2 1 2 1 2 1 2]\n",
      " [3 4 3 4 3 4 3 4]]\n"
     ]
    }
   ],
   "source": [
    "#tile的用法， tile() 函数，就是将原矩阵横向、纵向地复制\n",
    "mat = np.array([[1,2], [3, 4]])\n",
    "#横向和纵向，（m,n）m表示纵向，n表示横向\n",
    "print(np.tile(mat,(2,4)))"
   ]
  },
  {
   "cell_type": "code",
   "execution_count": 52,
   "metadata": {},
   "outputs": [
    {
     "name": "stdout",
     "output_type": "stream",
     "text": [
      "[1 1 2 2 3 3 4 4]\n",
      "[[1 2]\n",
      " [1 2]\n",
      " [3 4]\n",
      " [3 4]]\n",
      "[[1 1 2 2]\n",
      " [3 3 4 4]]\n",
      "[[1 1 2 2 2]\n",
      " [3 3 4 4 4]]\n",
      "[[1 2]\n",
      " [1 2]\n",
      " [3 4]\n",
      " [3 4]\n",
      " [3 4]]\n"
     ]
    }
   ],
   "source": [
    "#repeat，即每列或者每行复制的个数\n",
    "mat = np.array([[1,2], [3, 4]])\n",
    "#axis=None，时候就会flatten当前矩阵，实际上就是变成了一个向量\n",
    "print(np.repeat(mat,2,axis=None))  \n",
    "\n",
    "#axis=0,沿着y轴复制，实际上增加了行数\n",
    "print(np.repeat(mat,2,axis=0))  \n",
    "\n",
    "#axis=1,沿着x轴复制，实际上增加列数\n",
    "print(np.repeat(mat,2,axis=1))\n",
    "\n",
    "#repeats可以为一个数，也可以为一个矩阵,每个数字代表的每一列的复制个数\n",
    "print(np.repeat(mat,[2,3],axis=1))\n",
    "print(np.repeat(mat,[2,3],axis=0))"
   ]
  },
  {
   "cell_type": "markdown",
   "metadata": {},
   "source": [
    "11、获取数组a和数组b之间的公共项。"
   ]
  },
  {
   "cell_type": "code",
   "execution_count": 4,
   "metadata": {},
   "outputs": [
    {
     "name": "stdout",
     "output_type": "stream",
     "text": [
      "[2 4]\n"
     ]
    }
   ],
   "source": [
    "#求得2个数组的公共项\n",
    "com_a = np.array([1,2,3,2,3,4,3,4,5,6])\n",
    "com_b = np.array([7,2,10,2,7,4,9,4,9,8])\n",
    "print(np.intersect1d(com_a,com_b))"
   ]
  },
  {
   "cell_type": "markdown",
   "metadata": {},
   "source": [
    "12、从数组a中删除数组b中的所有项。"
   ]
  },
  {
   "cell_type": "code",
   "execution_count": 5,
   "metadata": {},
   "outputs": [
    {
     "name": "stdout",
     "output_type": "stream",
     "text": [
      "[1 3 5 6]\n"
     ]
    }
   ],
   "source": [
    "com_a = np.array([1,2,3,2,3,4,3,4,5,6])\n",
    "com_b = np.array([7,2,10,2,7,4,9,4,9,8])\n",
    "print(np.setdiff1d(com_a,com_b))"
   ]
  },
  {
   "cell_type": "markdown",
   "metadata": {},
   "source": [
    "13、获取a和b元素匹配的位置。"
   ]
  },
  {
   "cell_type": "code",
   "execution_count": 6,
   "metadata": {},
   "outputs": [
    {
     "name": "stdout",
     "output_type": "stream",
     "text": [
      "(array([1, 3, 5, 7], dtype=int64),)\n"
     ]
    }
   ],
   "source": [
    "com_a = np.array([1,2,3,2,3,4,3,4,5,6])\n",
    "com_b = np.array([7,2,10,2,7,4,9,4,9,8])\n",
    "print(np.where(com_a == com_b))"
   ]
  },
  {
   "cell_type": "markdown",
   "metadata": {},
   "source": [
    "14、获取5到10之间的所有项目"
   ]
  },
  {
   "cell_type": "code",
   "execution_count": 12,
   "metadata": {},
   "outputs": [
    {
     "name": "stdout",
     "output_type": "stream",
     "text": [
      "[ 6  9 10]\n"
     ]
    }
   ],
   "source": [
    "#得到下标\n",
    "a = np.array([2, 6, 1, 9, 10, 3, 27])\n",
    "print(a[np.where((a>=5) & (a <=10))])"
   ]
  },
  {
   "cell_type": "markdown",
   "metadata": {},
   "source": [
    "15、函数向量化，即转换适用于两个标量的函数maxx，以处理两个数组"
   ]
  },
  {
   "cell_type": "code",
   "execution_count": 14,
   "metadata": {},
   "outputs": [
    {
     "name": "stdout",
     "output_type": "stream",
     "text": [
      "[ 7.  2. 10.  2.  7.  4.  9.  4.  9.  8.]\n"
     ]
    }
   ],
   "source": [
    "#使用vectorize使得向量标量，以此处理向量中的元素\n",
    "def maxx(x,y):\n",
    "    if x>y:\n",
    "        return x\n",
    "    else:\n",
    "        return y\n",
    "pair_max = np.vectorize(maxx,otypes=[float])\n",
    "com_a = np.array([1,2,3,2,3,4,3,4,5,6])\n",
    "com_b = np.array([7,2,10,2,7,4,9,4,9,8])\n",
    "print(pair_max(com_a,com_b))"
   ]
  },
  {
   "cell_type": "markdown",
   "metadata": {},
   "source": [
    "16、交换数组中的列"
   ]
  },
  {
   "cell_type": "code",
   "execution_count": 17,
   "metadata": {},
   "outputs": [
    {
     "name": "stdout",
     "output_type": "stream",
     "text": [
      "[[0 1 2]\n",
      " [3 4 5]\n",
      " [6 7 8]]\n",
      "[[1 0 2]\n",
      " [4 3 5]\n",
      " [7 6 8]]\n"
     ]
    }
   ],
   "source": [
    "arr = np.arange(9).reshape(3,3)\n",
    "print(arr)\n",
    "print(arr[:,[1,0,2]])"
   ]
  },
  {
   "cell_type": "markdown",
   "metadata": {},
   "source": [
    "17、交换数组中的行"
   ]
  },
  {
   "cell_type": "code",
   "execution_count": 18,
   "metadata": {},
   "outputs": [
    {
     "name": "stdout",
     "output_type": "stream",
     "text": [
      "[[0 1 2]\n",
      " [3 4 5]\n",
      " [6 7 8]]\n",
      "[[3 4 5]\n",
      " [0 1 2]\n",
      " [6 7 8]]\n"
     ]
    }
   ],
   "source": [
    "arr = np.arange(9).reshape(3,3)\n",
    "print(arr)\n",
    "print(arr[[1,0,2],:])"
   ]
  },
  {
   "cell_type": "markdown",
   "metadata": {},
   "source": [
    "18、反转数组中的行"
   ]
  },
  {
   "cell_type": "code",
   "execution_count": 12,
   "metadata": {},
   "outputs": [
    {
     "name": "stdout",
     "output_type": "stream",
     "text": [
      "[[0 1 2]\n",
      " [3 4 5]\n",
      " [6 7 8]]\n",
      "[[6 7 8]\n",
      " [3 4 5]\n",
      " [0 1 2]]\n"
     ]
    }
   ],
   "source": [
    "arr = np.arange(9).reshape(3,3)\n",
    "print(arr)\n",
    "print(arr[::-1,:]) #::-1,表示从后面开始不断-1，即-1，-2，-3"
   ]
  },
  {
   "cell_type": "markdown",
   "metadata": {},
   "source": [
    "19、反转数组中的列"
   ]
  },
  {
   "cell_type": "code",
   "execution_count": 13,
   "metadata": {},
   "outputs": [
    {
     "name": "stdout",
     "output_type": "stream",
     "text": [
      "[[0 1 2]\n",
      " [3 4 5]\n",
      " [6 7 8]]\n",
      "[[2 1 0]\n",
      " [5 4 3]\n",
      " [8 7 6]]\n"
     ]
    }
   ],
   "source": [
    "arr = np.arange(9).reshape(3,3)\n",
    "print(arr)\n",
    "print(arr[:,::-1])"
   ]
  },
  {
   "cell_type": "markdown",
   "metadata": {},
   "source": [
    "20、创建一个形状为5x3的二维数组，以包含5到10之间的随机十进制数。"
   ]
  },
  {
   "cell_type": "code",
   "execution_count": 14,
   "metadata": {},
   "outputs": [
    {
     "name": "stdout",
     "output_type": "stream",
     "text": [
      "[[7.038 8.236 5.294]\n",
      " [5.687 5.02  6.318]\n",
      " [7.509 6.586 5.148]\n",
      " [6.405 9.053 5.604]\n",
      " [6.078 8.256 7.109]]\n",
      "[[9.833 5.027 6.234]\n",
      " [5.733 7.008 7.09 ]\n",
      " [9.697 5.691 5.075]\n",
      " [8.624 9.988 5.057]\n",
      " [7.953 5.148 5.173]]\n"
     ]
    }
   ],
   "source": [
    "#第一种：前面整数+0-1的小数\n",
    "rand_arr = np.random.randint(low=5, high=10, size=(5,3)) + np.random.random((5,3))\n",
    "print(rand_arr)\n",
    "#第二种\n",
    "rand_arr = np.random.uniform(5,10, size=(5,3))\n",
    "print(rand_arr)"
   ]
  },
  {
   "cell_type": "markdown",
   "metadata": {},
   "source": [
    "21、如何在numpy数组中只打印小数点后三位"
   ]
  },
  {
   "cell_type": "code",
   "execution_count": 17,
   "metadata": {},
   "outputs": [
    {
     "name": "stdout",
     "output_type": "stream",
     "text": [
      "[[0.764 0.749 0.013]\n",
      " [0.337 0.246 0.479]\n",
      " [0.333 0.547 0.79 ]\n",
      " [0.654 0.661 0.941]\n",
      " [0.846 0.095 0.203]]\n",
      "[[0.524 0.771 0.986]\n",
      " [0.015 0.579 0.021]\n",
      " [0.915 0.92  0.566]\n",
      " [0.505 0.488 0.052]\n",
      " [0.969 0.062 0.919]]\n",
      "[[0.524 0.771 0.986]\n",
      " [0.015 0.579 0.021]\n",
      " [0.915 0.92  0.566]\n",
      " [0.505 0.488 0.052]\n",
      " [0.969 0.062 0.919]]\n"
     ]
    }
   ],
   "source": [
    "#第一种\n",
    "rand_arr = np.random.random([5,3])\n",
    "print(np.around(rand_arr,decimals=3))\n",
    "\n",
    "#第二种\n",
    "rand_arr1 = np.random.random((5,3))\n",
    "print(rand_arr1)\n",
    "np.set_printoptions(precision = 3)\n",
    "print(rand_arr1)"
   ]
  },
  {
   "cell_type": "markdown",
   "metadata": {},
   "source": [
    "22、通过e式科学记数法来打印rand_arr（如1e10）"
   ]
  },
  {
   "cell_type": "code",
   "execution_count": 22,
   "metadata": {},
   "outputs": [
    {
     "name": "stdout",
     "output_type": "stream",
     "text": [
      "[[5.434e-03 2.784e-03 4.245e-03]\n",
      " [8.448e-03 4.719e-05 1.216e-03]\n",
      " [6.707e-03 8.259e-03 1.367e-03]]\n",
      "[[0.005434 0.002784 0.004245]\n",
      " [0.008448 0.000047 0.001216]\n",
      " [0.006707 0.008259 0.001367]]\n"
     ]
    }
   ],
   "source": [
    "#False使用科学计数法\n",
    "np.set_printoptions(suppress = False)\n",
    "np.random.seed(100)\n",
    "rand_arr = np.random.random([3,3])/100\n",
    "print(rand_arr)\n",
    "\n",
    "#使用小数\n",
    "np.set_printoptions(suppress=True, precision=6)\n",
    "print(rand_arr)"
   ]
  },
  {
   "cell_type": "markdown",
   "metadata": {},
   "source": [
    "23、如何限制numpy数组输出中打印的项目数？"
   ]
  },
  {
   "cell_type": "code",
   "execution_count": 43,
   "metadata": {},
   "outputs": [
    {
     "name": "stdout",
     "output_type": "stream",
     "text": [
      "[ 0  1  2 ... 12 13 14]\n"
     ]
    }
   ],
   "source": [
    "#超过阈值就缩写\n",
    "np.set_printoptions(threshold=8)\n",
    "b = np.arange(15)\n",
    "print(b)"
   ]
  },
  {
   "cell_type": "markdown",
   "metadata": {},
   "source": [
    "24、如何打印完整的numpy数组而不截断"
   ]
  },
  {
   "cell_type": "code",
   "execution_count": 45,
   "metadata": {},
   "outputs": [
    {
     "name": "stdout",
     "output_type": "stream",
     "text": [
      "[ 0  1  2  3  4  5  6  7  8  9 10 11 12 13 14]\n"
     ]
    }
   ],
   "source": [
    "b = np.arange(15)\n",
    "#设置为很大的数字\n",
    "np.set_printoptions(threshold=10000)\n",
    "print(b)"
   ]
  },
  {
   "cell_type": "markdown",
   "metadata": {},
   "source": [
    "25、导入鸢尾属植物数据集，保持文本不变。"
   ]
  },
  {
   "cell_type": "code",
   "execution_count": 51,
   "metadata": {},
   "outputs": [
    {
     "name": "stdout",
     "output_type": "stream",
     "text": [
      "[[b'5.1' b'3.5' b'1.4' b'0.2' b'Iris-setosa']\n",
      " [b'4.9' b'3.0' b'1.4' b'0.2' b'Iris-setosa']\n",
      " [b'4.7' b'3.2' b'1.3' b'0.2' b'Iris-setosa']]\n"
     ]
    }
   ],
   "source": [
    "url = 'https://archive.ics.uci.edu/ml/machine-learning-databases/iris/iris.data'\n",
    "#使用genfromtxt原格式读取数据\n",
    "iris = np.genfromtxt(url, delimiter=',', dtype='object')\n",
    "names = ('sepallength', 'sepalwidth', 'petallength', 'petalwidth', 'species')\n",
    "print(iris[:3])"
   ]
  },
  {
   "cell_type": "code",
   "execution_count": null,
   "metadata": {},
   "outputs": [],
   "source": []
  }
 ],
 "metadata": {
  "kernelspec": {
   "display_name": "Python 3",
   "language": "python",
   "name": "python3"
  },
  "language_info": {
   "codemirror_mode": {
    "name": "ipython",
    "version": 3
   },
   "file_extension": ".py",
   "mimetype": "text/x-python",
   "name": "python",
   "nbconvert_exporter": "python",
   "pygments_lexer": "ipython3",
   "version": "3.6.8"
  }
 },
 "nbformat": 4,
 "nbformat_minor": 2
}
